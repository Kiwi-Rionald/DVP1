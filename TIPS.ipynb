{
 "cells": [
  {
   "cell_type": "markdown",
   "source": [
    "# 调整page内item属性\n"
   ],
   "metadata": {
    "collapsed": false
   }
  },
  {
   "cell_type": "markdown",
   "source": [
    "```python\n",
    "async def update_sidebar(q: Q, user_inputs, progress=False):\n",
    "    q.page['sidebar'].items[1].dropdown.values = [str(x) for x in user_inputs.stores]\n",
    "    q.page['sidebar'].items[2].dropdown.values = [str(x) for x in user_inputs.departments]\n",
    "    q.page['sidebar'].items[3].slider.value = user_inputs.n_forecast_weeks\n",
    "    q.page['sidebar'].items[5].progress.visible = progress\n",
    "    await q.page.save()\n",
    "```"
   ],
   "metadata": {
    "collapsed": false
   }
  },
  {
   "cell_type": "markdown",
   "source": [
    "# 创建多个page"
   ],
   "metadata": {
    "collapsed": false
   }
  },
  {
   "cell_type": "markdown",
   "source": [
    "用在展示多个图表的部分？\n",
    "```python\n",
    " for i, tweet in enumerate(q.client.tweet_analyser.search_tweets(q=q.args.search or 'AI')):\n",
    "            q.page[f'twitter_card_{i}'] = ui.profile_card(\n",
    "                box=ui.box('twitter_cards', width='400px'),\n",
    "                persona=ui.persona(title=tweet.user.name, image=tweet.user.profile_image_url),\n",
    "                image=q.app[sentiment],\n",
    "                items=[ui.text(f'_{tweet.text}_')],\n",
    "                height='170px'\n",
    "            )\n",
    "\n",
    "    await q.page.save()\n",
    "```\n",
    "\n"
   ],
   "metadata": {
    "collapsed": false
   }
  },
  {
   "cell_type": "markdown",
   "source": [
    "# drop card但不影响互动更新的方法"
   ],
   "metadata": {
    "collapsed": false
   }
  },
  {
   "cell_type": "code",
   "execution_count": 1,
   "outputs": [],
   "source": [
    "# TODO：改进drop card\n",
    "from typing import Optional, List\n",
    "# Remove all the cards related to navigation.\n",
    "def clear_cards(q, ignore: Optional[List[str]] = []) -> None:\n",
    "    if not q.client.cards:\n",
    "        return\n",
    "\n",
    "    for name in q.client.cards.copy():\n",
    "        if name not in ignore:\n",
    "            del q.page[name]\n",
    "            q.client.cards.remove(name)\n",
    "# 在一些有互动界面的card上，就需要在函数里增加这个可选项，不删除那些互动的card"
   ],
   "metadata": {
    "collapsed": false
   }
  },
  {
   "cell_type": "code",
   "execution_count": null,
   "outputs": [],
   "source": [],
   "metadata": {
    "collapsed": false
   }
  }
 ],
 "metadata": {
  "kernelspec": {
   "display_name": "Python 3",
   "language": "python",
   "name": "python3"
  },
  "language_info": {
   "codemirror_mode": {
    "name": "ipython",
    "version": 2
   },
   "file_extension": ".py",
   "mimetype": "text/x-python",
   "name": "python",
   "nbconvert_exporter": "python",
   "pygments_lexer": "ipython2",
   "version": "2.7.6"
  }
 },
 "nbformat": 4,
 "nbformat_minor": 0
}
